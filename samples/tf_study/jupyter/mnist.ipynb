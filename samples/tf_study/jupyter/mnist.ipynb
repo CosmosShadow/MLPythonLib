{
 "cells": [
  {
   "cell_type": "code",
   "execution_count": 1,
   "metadata": {
    "collapsed": false
   },
   "outputs": [
    {
     "name": "stdout",
     "output_type": "stream",
     "text": [
      "Extracting /Users/lichen/data/tf/mnist/train-images-idx3-ubyte.gz\n",
      "Extracting /Users/lichen/data/tf/mnist/train-labels-idx1-ubyte.gz\n",
      "Extracting /Users/lichen/data/tf/mnist/t10k-images-idx3-ubyte.gz\n",
      "Extracting /Users/lichen/data/tf/mnist/t10k-labels-idx1-ubyte.gz\n",
      "index: 100, loss: 1.616550\n",
      "index: 200, loss: 1.286672\n",
      "index: 300, loss: 0.919027\n",
      "index: 400, loss: 0.755565\n",
      "index: 500, loss: 0.991004\n",
      "index: 600, loss: 0.626472\n",
      "index: 700, loss: 0.657618\n",
      "index: 800, loss: 0.405070\n",
      "index: 900, loss: 0.438926\n",
      "index: 1000, loss: 0.594296\n",
      "Accuracy: 0.91\n"
     ]
    }
   ],
   "source": [
    "# coding: utf-8\n",
    "import tensorflow as tf\n",
    "import prettytensor as pt\n",
    "import numpy as np\n",
    "import cmtf.data.data_mnist as data_mnist\n",
    "\n",
    "\n",
    "# 模型\n",
    "x = tf.placeholder(tf.float32, [None, 784])\n",
    "y = tf.placeholder(tf.int64, [None])\n",
    "pretty_input = pt.wrap(x)\n",
    "output = (\n",
    "\tpretty_input.\n",
    "\tfully_connected(100, activation_fn=tf.nn.relu).\n",
    "\tfully_connected(10, activation_fn=None))\n",
    "\n",
    "loss = tf.reduce_mean(tf.nn.sparse_softmax_cross_entropy_with_logits(output, y))\n",
    "accuracy = tf.reduce_mean(tf.cast(tf.equal(tf.argmax(output,1), y), \"float\"))\n",
    "train_op = tf.train.GradientDescentOptimizer(0.01).minimize(loss)\n",
    "\n",
    "# GPU使用率\n",
    "config = tf.ConfigProto()\n",
    "config.gpu_options.per_process_gpu_memory_fraction = 0.8    #固定比例\n",
    "config.gpu_options.allow_growth = True\n",
    "\n",
    "# session\n",
    "sess = tf.InteractiveSession(config=config)\n",
    "tf.initialize_all_variables().run()\n",
    "\n",
    "# 数据\n",
    "mnist = data_mnist.read_data_sets(one_hot=False)\n",
    "\n",
    "# train\n",
    "for i in range(1000):\n",
    "    batch_xs, batch_ys = mnist.train.next_batch(100)\n",
    "    train_op.run(feed_dict={x: batch_xs, y: batch_ys})\n",
    "    if (i+1)%100 == 0:\n",
    "        loss_val = loss.eval(feed_dict={x: batch_xs, y: batch_ys})\n",
    "        print 'index: %d, loss: %f' % (i+1, loss_val)\n",
    "# test\n",
    "accuracy_value = accuracy.eval(feed_dict={x:mnist.test.images[:100], y:mnist.test.labels[:100]})\n",
    "print 'Accuracy: %g' % accuracy_value"
   ]
  }
 ],
 "metadata": {
  "kernelspec": {
   "display_name": "Python 2",
   "language": "python",
   "name": "python2"
  },
  "language_info": {
   "codemirror_mode": {
    "name": "ipython",
    "version": 2
   },
   "file_extension": ".py",
   "mimetype": "text/x-python",
   "name": "python",
   "nbconvert_exporter": "python",
   "pygments_lexer": "ipython2",
   "version": "2.7.11"
  }
 },
 "nbformat": 4,
 "nbformat_minor": 0
}
