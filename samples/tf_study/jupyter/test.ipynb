{
 "cells": [
  {
   "cell_type": "code",
   "execution_count": 1,
   "metadata": {
    "collapsed": false
   },
   "outputs": [
    {
     "data": {
      "application/javascript": [
       "Jupyter.utils.load_extensions('tdb_ext/main')"
      ],
      "text/plain": [
       "<IPython.core.display.Javascript object>"
      ]
     },
     "metadata": {},
     "output_type": "display_data"
    }
   ],
   "source": [
    "%%javascript\n",
    "Jupyter.utils.load_extensions('tdb_ext/main')"
   ]
  },
  {
   "cell_type": "code",
   "execution_count": 2,
   "metadata": {
    "collapsed": false
   },
   "outputs": [
    {
     "name": "stdout",
     "output_type": "stream",
     "text": [
      "conv2d/weights:0\n",
      "conv2d/bias:0\n",
      "conv2d_1/weights:0\n",
      "conv2d_1/bias:0\n",
      "fully_connected/weights:0\n",
      "fully_connected/bias:0\n",
      "fully_connected_1/weights:0\n",
      "fully_connected_1/bias:0\n",
      "conv2d/weights/Momentum:0\n",
      "conv2d/bias/Momentum:0\n",
      "conv2d_1/weights/Momentum:0\n",
      "conv2d_1/bias/Momentum:0\n",
      "fully_connected/weights/Momentum:0\n",
      "fully_connected/bias/Momentum:0\n",
      "fully_connected_1/weights/Momentum:0\n",
      "fully_connected_1/bias/Momentum:0\n",
      "(7, 7, 1, 25)\n",
      "Extracting /Users/lichen/data/tf/mnist/train-images-idx3-ubyte.gz\n",
      "Extracting /Users/lichen/data/tf/mnist/train-labels-idx1-ubyte.gz\n",
      "Extracting /Users/lichen/data/tf/mnist/t10k-images-idx3-ubyte.gz\n",
      "Extracting /Users/lichen/data/tf/mnist/t10k-labels-idx1-ubyte.gz\n",
      "Accuracy: 0.93\n"
     ]
    }
   ],
   "source": [
    "# coding: utf-8\n",
    "import tensorflow as tf\n",
    "import prettytensor as pt\n",
    "import numpy as np\n",
    "import cmtf.data.data_mnist as data_mnist\n",
    "import matplotlib.pyplot as plt\n",
    "import tdb\n",
    "from tdb.examples import viz\n",
    "\n",
    "\n",
    "# 模型\n",
    "x = tf.placeholder(tf.float32, [None, 784])\n",
    "y = tf.placeholder(tf.int64, [None])\n",
    "\n",
    "x_reshape = tf.reshape(x, [-1, 28, 28, 1])\n",
    "seq = pt.wrap(x_reshape).sequential()\n",
    "seq.conv2d([7, 7], 25, activation_fn=tf.nn.relu)\n",
    "seq.max_pool(2, 2)\n",
    "seq.conv2d([7, 7], 32, activation_fn=tf.nn.relu)\n",
    "seq.max_pool(2, 2)\n",
    "seq.flatten()\n",
    "seq.fully_connected(64, activation_fn=tf.nn.relu)\n",
    "seq.fully_connected(10, activation_fn=None)\n",
    "output = seq.as_layer()\n",
    "\n",
    "loss = tf.reduce_mean(tf.nn.sparse_softmax_cross_entropy_with_logits(output, y))\n",
    "accuracy = tf.reduce_mean(tf.cast(tf.equal(tf.argmax(output,1), y), \"float\"))\n",
    "train_op = tf.train.MomentumOptimizer(0.01, 0.9, use_nesterov=True).minimize(loss)\n",
    "\n",
    "# 所有变量\n",
    "for v in tf.all_variables():\n",
    "\tprint v.name\n",
    "\n",
    "# GPU使用率\n",
    "config = tf.ConfigProto()\n",
    "config.gpu_options.per_process_gpu_memory_fraction = 0.8    #固定比例\n",
    "config.gpu_options.allow_growth = True\n",
    "\n",
    "# session\n",
    "sess = tf.InteractiveSession(config=config)\n",
    "tf.initialize_all_variables().run()\n",
    "\n",
    "# 画图\n",
    "def viz_square(data, normalize=True, cmap=plt.cm.gray, padsize=1, padval=0):\n",
    "    # normalize to 0-1 range\n",
    "    if normalize:\n",
    "        data -= data.min()\n",
    "        data /= data.max()\n",
    "    n = int(np.ceil(np.sqrt(data.shape[0]))) # force square \n",
    "    padding = ((0, n ** 2 - data.shape[0]), (0, padsize), (0, padsize)) + ((0, 0),) * (data.ndim - 3)\n",
    "    data = np.pad(data, padding, mode='constant', constant_values=(padval, padval))\n",
    "    # tile the filters into an image\n",
    "    data = data.reshape((n, n) + data.shape[1:]).transpose((0, 2, 1, 3) + tuple(range(4, data.ndim + 1)))\n",
    "    data = data.reshape((n * data.shape[1], n * data.shape[3]) + data.shape[4:])\n",
    "    plt.matshow(data,cmap=cmap)\n",
    "\n",
    "# 最大激活权重\n",
    "def max_activate_weight(weights):\n",
    "    image = np.copy(weights)\n",
    "    for i in range(image.shape[0]):\n",
    "        base = np.sqrt(np.square(image[i]).sum())\n",
    "        image[i] = np.absolute(image[i]) / base\n",
    "    return image\n",
    "\n",
    "def viz_conv_weights(ctx, weight):\n",
    "    weight_tr = weight.transpose(3,0,1,2)[:,:,:,0]\n",
    "    images = max_activate_weight(weight_tr)\n",
    "#     viz_square(images, normalize=False)\n",
    "    plt.matshow(images[0],cmap=plt.cm.gray)\n",
    "\n",
    "    \n",
    "g=tf.get_default_graph()\n",
    "conv1_weights = [v for v in tf.all_variables() if v.name == \"conv2d/weights:0\"][0]\n",
    "p1=tdb.plot_op(viz_conv_weights,inputs=[g.as_graph_element(conv1_weights)])\n",
    "\n",
    "ploss=tdb.plot_op(viz.watch_loss,inputs=[loss])\n",
    "\n",
    "print conv1_weights.get_shape()\n",
    "\n",
    "# 数据\n",
    "mnist = data_mnist.read_data_sets(one_hot=False)\n",
    "\n",
    "# train\n",
    "for i in range(100):\n",
    "    batch_xs, batch_ys = mnist.train.next_batch(32)\n",
    "    feed_dict={x: batch_xs, y: batch_ys}\n",
    "    train_op.run(feed_dict=feed_dict)\n",
    "    if (i+1)%10 == 0:\n",
    "        status, result=tdb.debug([p1, ploss], feed_dict=feed_dict, breakpoints=None, \n",
    "                                 break_immediately=False, session=sess)\n",
    "\n",
    "# test\n",
    "accuracy_value = accuracy.eval(feed_dict={x:mnist.test.images[:100], y:mnist.test.labels[:100]})\n",
    "print 'Accuracy: %g' % accuracy_value"
   ]
  }
 ],
 "metadata": {
  "kernelspec": {
   "display_name": "Python 2",
   "language": "python",
   "name": "python2"
  },
  "language_info": {
   "codemirror_mode": {
    "name": "ipython",
    "version": 2
   },
   "file_extension": ".py",
   "mimetype": "text/x-python",
   "name": "python",
   "nbconvert_exporter": "python",
   "pygments_lexer": "ipython2",
   "version": "2.7.11"
  }
 },
 "nbformat": 4,
 "nbformat_minor": 0
}
