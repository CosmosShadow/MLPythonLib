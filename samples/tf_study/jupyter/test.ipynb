{
 "cells": [
  {
   "cell_type": "code",
   "execution_count": 1,
   "metadata": {
    "collapsed": false
   },
   "outputs": [
    {
     "data": {
      "application/javascript": [
       "Jupyter.utils.load_extensions('tdb_ext/main')"
      ],
      "text/plain": [
       "<IPython.core.display.Javascript object>"
      ]
     },
     "metadata": {},
     "output_type": "display_data"
    }
   ],
   "source": [
    "%%javascript\n",
    "Jupyter.utils.load_extensions('tdb_ext/main')"
   ]
  },
  {
   "cell_type": "code",
   "execution_count": 2,
   "metadata": {
    "collapsed": false
   },
   "outputs": [
    {
     "name": "stdout",
     "output_type": "stream",
     "text": [
      "conv2d/weights:0\n",
      "conv2d/bias:0\n",
      "conv2d_1/weights:0\n",
      "conv2d_1/bias:0\n",
      "fully_connected/weights:0\n",
      "fully_connected/bias:0\n",
      "fully_connected_1/weights:0\n",
      "fully_connected_1/bias:0\n",
      "Extracting /Users/lichen/data/tf/mnist/train-images-idx3-ubyte.gz\n",
      "Extracting /Users/lichen/data/tf/mnist/train-labels-idx1-ubyte.gz\n",
      "Extracting /Users/lichen/data/tf/mnist/t10k-images-idx3-ubyte.gz\n",
      "Extracting /Users/lichen/data/tf/mnist/t10k-labels-idx1-ubyte.gz\n",
      "index: 200, loss: 8.306932\n",
      "index: 400, loss: 6.714475\n",
      "index: 600, loss: 5.983556\n",
      "index: 800, loss: 5.558240\n",
      "index: 1000, loss: 5.074481\n",
      "index: 1200, loss: 3.636143\n",
      "index: 1400, loss: 0.870659\n",
      "index: 1600, loss: 1.979830\n",
      "index: 1800, loss: 1.218139\n",
      "index: 2000, loss: 2.785712\n",
      "Accuracy: 0.83\n"
     ]
    }
   ],
   "source": [
    "# coding: utf-8\n",
    "import tensorflow as tf\n",
    "import prettytensor as pt\n",
    "import numpy as np\n",
    "import cmtf.data.data_mnist as data_mnist\n",
    "import matplotlib.pyplot as plt\n",
    "import tdb\n",
    "from tdb.examples import viz\n",
    "\n",
    "\n",
    "# 模型\n",
    "x = tf.placeholder(tf.float32, [None, 784])\n",
    "y = tf.placeholder(tf.int64, [None])\n",
    "\n",
    "x_reshape = tf.reshape(x, [-1, 28, 28, 1])\n",
    "seq = pt.wrap(x_reshape).sequential()\n",
    "seq.conv2d([7, 7], 16)\n",
    "seq.max_pool(2, 2)\n",
    "seq.conv2d([7, 7], 32)\n",
    "seq.max_pool(2, 2)\n",
    "seq.flatten()\n",
    "seq.fully_connected(64, activation_fn=tf.nn.relu)\n",
    "seq.fully_connected(10, activation_fn=None)\n",
    "output = seq.as_layer()\n",
    "\n",
    "loss = tf.reduce_mean(tf.nn.sparse_softmax_cross_entropy_with_logits(output, y))\n",
    "accuracy = tf.reduce_mean(tf.cast(tf.equal(tf.argmax(output,1), y), \"float\"))\n",
    "train_op = tf.train.GradientDescentOptimizer(0.001).minimize(loss)\n",
    "\n",
    "# 所有变量\n",
    "for v in tf.all_variables():\n",
    "\tprint v.name\n",
    "\n",
    "# GPU使用率\n",
    "config = tf.ConfigProto()\n",
    "config.gpu_options.per_process_gpu_memory_fraction = 0.8    #固定比例\n",
    "config.gpu_options.allow_growth = True\n",
    "\n",
    "# session\n",
    "sess = tf.InteractiveSession(config=config)\n",
    "tf.initialize_all_variables().run()\n",
    "\n",
    "g=tf.get_default_graph()\n",
    "conv1_weights = [v for v in tf.all_variables() if v.name == \"conv2d/weights:0\"][0]\n",
    "p1=tdb.plot_op(viz.viz_conv_weights,inputs=[g.as_graph_element(conv1_weights)])\n",
    "\n",
    "# 数据\n",
    "mnist = data_mnist.read_data_sets(one_hot=False)\n",
    "\n",
    "# train\n",
    "for i in range(2000):\n",
    "\tbatch_xs, batch_ys = mnist.train.next_batch(32)\n",
    "\ttrain_op.run(feed_dict={x: batch_xs, y: batch_ys})\n",
    "\tif (i+1)%200 == 0:\n",
    "\t\tfeed_dict={x: batch_xs, y: batch_ys}\n",
    "\t\tstatus, result=tdb.debug([loss, p1], feed_dict=feed_dict, breakpoints=None, break_immediately=False, session=sess)\n",
    "\t\tprint 'index: %d, loss: %f' % (i+1, result[0])\n",
    "# test\n",
    "accuracy_value = accuracy.eval(feed_dict={x:mnist.test.images[:100], y:mnist.test.labels[:100]})\n",
    "print 'Accuracy: %g' % accuracy_value\n",
    "\n",
    "\n",
    "\n",
    "\n",
    "\n",
    "\n",
    "\n",
    "\n",
    "\n",
    "\n"
   ]
  }
 ],
 "metadata": {
  "kernelspec": {
   "display_name": "Python 2",
   "language": "python",
   "name": "python2"
  },
  "language_info": {
   "codemirror_mode": {
    "name": "ipython",
    "version": 2
   },
   "file_extension": ".py",
   "mimetype": "text/x-python",
   "name": "python",
   "nbconvert_exporter": "python",
   "pygments_lexer": "ipython2",
   "version": "2.7.11"
  }
 },
 "nbformat": 4,
 "nbformat_minor": 0
}
